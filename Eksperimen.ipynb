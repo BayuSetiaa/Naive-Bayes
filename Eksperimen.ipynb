{
 "cells": [
  {
   "cell_type": "markdown",
   "metadata": {},
   "source": [
    "# Eksperimen dengan dataset public"
   ]
  },
  {
   "cell_type": "code",
   "execution_count": 1,
   "metadata": {},
   "outputs": [
    {
     "name": "stdout",
     "output_type": "stream",
     "text": [
      "Test_size, Akurasi, Error\n",
      "0.2, 79.99%, 0.20\n",
      "0.3, 80.01%, 0.20\n",
      "0.5, 79.85%, 0.20\n",
      "0.4, 79.89%, 0.20\n",
      "0.6, 79.67%, 0.20\n"
     ]
    }
   ],
   "source": [
    "import pandas as pd\n",
    "from sklearn.model_selection import train_test_split\n",
    "from sklearn.naive_bayes import GaussianNB\n",
    "from sklearn.metrics import accuracy_score\n",
    "\n",
    "# Load dataset\n",
    "data = 'dataset/adult.csv'\n",
    "df = pd.read_csv(data)\n",
    "columns = ['age', 'workclass', 'fnlwgt', 'education', 'education_num',\n",
    "        'marital_status', 'occupation', 'relationship', 'race', 'sex',\n",
    "        'capital_gain', 'capital_loss', 'hours_per_week', 'native_country',\n",
    "        'income']\n",
    "df.columns = columns  # Set column names\n",
    "\n",
    "# Preprocessing\n",
    "# Mengubah kolom non-numerik menjadi numerik (dummy variables)\n",
    "df = pd.get_dummies(df, columns=['workclass', 'education', 'marital_status', 'occupation', 'relationship', 'race', 'sex', 'native_country'])\n",
    "\n",
    "# Menghapus kolom yang tidak diperlukan\n",
    "df.drop(['fnlwgt'], axis=1, inplace=True)\n",
    "\n",
    "# Feature selection (contoh: menggunakan korelasi)\n",
    "selected_features = ['age', 'education_num', 'capital_gain', 'capital_loss', 'hours_per_week']\n",
    "\n",
    "# Checking if 'income' column exists after preprocessing\n",
    "if 'income' in df.columns:\n",
    "    X = df[selected_features]\n",
    "    y = df['income']\n",
    "\n",
    "    # Eksperimen dengan test_size yang berbeda\n",
    "    results = []\n",
    "    test_sizes = [0.2, 0.3, 0.5, 0.4, 0.6]\n",
    "    for test_size in test_sizes:\n",
    "        # Pembagian dataset menjadi train dan test\n",
    "        X_train, X_test, y_train, y_test = train_test_split(X, y, test_size=test_size, random_state=42)\n",
    "\n",
    "        # Inisialisasi dan pelatihan model Naive Bayes\n",
    "        model = GaussianNB()\n",
    "        model.fit(X_train, y_train)\n",
    "\n",
    "        # Prediksi pada data uji\n",
    "        y_pred = model.predict(X_test)\n",
    "\n",
    "        # Menghitung akurasi\n",
    "        accuracy = accuracy_score(y_test, y_pred)\n",
    "\n",
    "        # Menghitung error\n",
    "        error = 1 - accuracy\n",
    "\n",
    "        # Menyimpan hasil\n",
    "        results.append((test_size, accuracy, error))\n",
    "\n",
    "    # Menampilkan hasil eksperimen\n",
    "    print(\"Test_size, Akurasi, Error\")\n",
    "    for result in results:\n",
    "        print(\"{}, {:.2f}%, {:.2f}\".format(result[0], result[1] * 100, result[2]))\n",
    "else:\n",
    "    print(\"Column 'income' is not present in the DataFrame after preprocessing. Check preprocessing steps.\")\n"
   ]
  },
  {
   "cell_type": "markdown",
   "metadata": {},
   "source": [
    "# Tingkat Akurasi Terbaik"
   ]
  },
  {
   "cell_type": "code",
   "execution_count": 2,
   "metadata": {},
   "outputs": [
    {
     "name": "stdout",
     "output_type": "stream",
     "text": [
      "Test_size, Akurasi, Error\n",
      "0.3, 80.01%, 0.20\n"
     ]
    }
   ],
   "source": [
    "import pandas as pd\n",
    "from sklearn.model_selection import train_test_split\n",
    "from sklearn.naive_bayes import GaussianNB\n",
    "from sklearn.metrics import accuracy_score\n",
    "\n",
    "# Load dataset\n",
    "data = 'dataset/adult.csv'\n",
    "df = pd.read_csv(data)\n",
    "columns = ['age', 'workclass', 'fnlwgt', 'education', 'education_num',\n",
    "          'marital_status', 'occupation', 'relationship', 'race', 'sex',\n",
    "          'capital_gain', 'capital_loss', 'hours_per_week', 'native_country',\n",
    "          'income']\n",
    "df.columns = columns  # Set column names\n",
    "\n",
    "# Preprocessing\n",
    "# Mengubah kolom non-numerik menjadi numerik (dummy variables)\n",
    "df = pd.get_dummies(df, columns=['workclass', 'education', 'marital_status', 'occupation', 'relationship', 'race', 'sex', 'native_country'])\n",
    "\n",
    "# Menghapus kolom yang tidak diperlukan\n",
    "df.drop(['fnlwgt'], axis=1, inplace=True)\n",
    "\n",
    "# Feature selection (contoh: menggunakan korelasi)\n",
    "selected_features = ['age', 'education_num', 'capital_gain', 'capital_loss', 'hours_per_week']\n",
    "\n",
    "# Checking if 'income' column exists after preprocessing\n",
    "if 'income' in df.columns:\n",
    "    X = df[selected_features]\n",
    "    y = df['income']\n",
    "\n",
    "    # Eksperimen dengan test_size yang berbeda\n",
    "    best_result = None\n",
    "    test_size = 0.3\n",
    "    # Pembagian dataset menjadi train dan test\n",
    "    X_train, X_test, y_train, y_test = train_test_split(X, y, test_size=test_size, random_state=42)\n",
    "\n",
    "    # Inisialisasi dan pelatihan model Naive Bayes\n",
    "    model = GaussianNB()\n",
    "    model.fit(X_train, y_train)\n",
    "\n",
    "    # Prediksi pada data uji\n",
    "    y_pred = model.predict(X_test)\n",
    "\n",
    "    # Menghitung akurasi\n",
    "    accuracy = accuracy_score(y_test, y_pred)\n",
    "\n",
    "    # Menghitung error\n",
    "    error = 1 - accuracy\n",
    "\n",
    "    # Menyimpan hasil\n",
    "    best_result = (test_size, accuracy, error)\n",
    "\n",
    "    # Menampilkan hasil eksperimen\n",
    "    print(\"Test_size, Akurasi, Error\")\n",
    "    print(\"{}, {:.2f}%, {:.2f}\".format(best_result[0], best_result[1] * 100, best_result[2]))\n",
    "else:\n",
    "    print(\"Column 'income' is not present in the DataFrame after preprocessing. Check preprocessing steps.\")\n"
   ]
  }
 ],
 "metadata": {
  "kernelspec": {
   "display_name": "env",
   "language": "python",
   "name": "python3"
  },
  "language_info": {
   "codemirror_mode": {
    "name": "ipython",
    "version": 3
   },
   "file_extension": ".py",
   "mimetype": "text/x-python",
   "name": "python",
   "nbconvert_exporter": "python",
   "pygments_lexer": "ipython3",
   "version": "3.9.18"
  }
 },
 "nbformat": 4,
 "nbformat_minor": 2
}
